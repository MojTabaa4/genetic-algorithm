{
 "cells": [
  {
   "cell_type": "markdown",
   "id": "f61055e0",
   "metadata": {},
   "source": [
    "# Genetic Algorithm"
   ]
  },
  {
   "cell_type": "markdown",
   "id": "ef69798b",
   "metadata": {},
   "source": [
    "In this project, the aim is to solve a sudoku puzzle using the genetic algorithm"
   ]
  },
  {
   "cell_type": "code",
   "execution_count": 1,
   "id": "8bd63cc2",
   "metadata": {
    "ExecuteTime": {
     "end_time": "2023-05-29T11:29:10.920391670Z",
     "start_time": "2023-05-29T11:29:10.920047102Z"
    }
   },
   "outputs": [],
   "source": [
    "import random as rndm\n",
    "import time"
   ]
  },
  {
   "cell_type": "markdown",
   "id": "6527cc01",
   "metadata": {},
   "source": [
    "## Part 1: Defining Genes and Chromosomes"
   ]
  },
  {
   "cell_type": "markdown",
   "id": "f44516b4",
   "metadata": {},
   "source": [
    "A gene is the value of a row and is a permutation of set {1 ... 9}. A chromosome consists of 9 genes, each gene representing a row of the actual sudoku puzzle."
   ]
  },
  {
   "cell_type": "code",
   "execution_count": 2,
   "id": "62151fed",
   "metadata": {
    "ExecuteTime": {
     "end_time": "2023-05-29T11:29:12.531465713Z",
     "start_time": "2023-05-29T11:29:12.480669591Z"
    }
   },
   "outputs": [],
   "source": [
    "def make_gene(initial=None):\n",
    "    if initial is None:\n",
    "        initial = [0] * 9\n",
    "    mapp = {}\n",
    "    gene = list(range(1, 10))\n",
    "    rndm.shuffle(gene)\n",
    "    for i in range(9):\n",
    "        mapp[gene[i]] = i\n",
    "    for i in range(9):\n",
    "        if initial[i] != 0 and gene[i] != initial[i]:\n",
    "            temp = gene[i], gene[mapp[initial[i]]]\n",
    "            gene[mapp[initial[i]]], gene[i] = temp\n",
    "            mapp[initial[i]], mapp[temp[0]] = i, mapp[initial[i]]\n",
    "    return gene"
   ]
  },
  {
   "cell_type": "code",
   "execution_count": 3,
   "id": "61cc7916",
   "metadata": {
    "ExecuteTime": {
     "end_time": "2023-05-29T11:29:12.690242698Z",
     "start_time": "2023-05-29T11:29:12.674358921Z"
    }
   },
   "outputs": [],
   "source": [
    "def make_chromosome(initial=None):\n",
    "    if initial is None:\n",
    "        initial = [[0] * 9] * 9\n",
    "    chromosome = []\n",
    "    for i in range(9):\n",
    "        chromosome.append(make_gene(initial[i]))\n",
    "    return chromosome"
   ]
  },
  {
   "cell_type": "markdown",
   "source": [],
   "metadata": {
    "collapsed": false
   }
  },
  {
   "cell_type": "markdown",
   "id": "be99629e",
   "metadata": {},
   "source": [
    "## Part 2: Making First Generation"
   ]
  },
  {
   "cell_type": "markdown",
   "id": "0e917e9c",
   "metadata": {},
   "source": [
    "In this part, a function is implemented to randomly create a population."
   ]
  },
  {
   "cell_type": "code",
   "execution_count": 4,
   "id": "ed4d7238",
   "metadata": {
    "ExecuteTime": {
     "end_time": "2023-05-29T11:29:13.834764530Z",
     "start_time": "2023-05-29T11:29:13.791140818Z"
    }
   },
   "outputs": [],
   "source": [
    "def make_population(count, initial=None):\n",
    "    if initial is None:\n",
    "        initial = [[0] * 9] * 9\n",
    "    population = []\n",
    "    for _ in range(count):\n",
    "        population.append(make_chromosome(initial))\n",
    "    return population"
   ]
  },
  {
   "cell_type": "markdown",
   "id": "2dce4969",
   "metadata": {},
   "source": [
    "## Part 3: Fitness Function"
   ]
  },
  {
   "cell_type": "markdown",
   "id": "dfe610a8",
   "metadata": {},
   "source": [
    "The fitness function calculates how \"fit\" a chromosome (puzzle) is based on:\n",
    "- For each column: Subtract (number of times a number is seen) - 1 from the fitness for that number\n",
    "- For each 3x3 square: Subtract (number of times a number is seen) - 1 from the fitness for that number\n",
    "The higher the fitness, the closer the puzzle is to being solved."
   ]
  },
  {
   "cell_type": "code",
   "execution_count": 5,
   "outputs": [],
   "source": [
    "def get_fitness(chromosome):\n",
    "    \"\"\"Calculate the fitness of a chromosome (puzzle).\"\"\"\n",
    "    fitness = 0\n",
    "    for i in range(9): # For each column\n",
    "        seen = {}\n",
    "        for j in range(9): # Check each cell in the column\n",
    "            if chromosome[j][i] in seen:\n",
    "                seen[chromosome[j][i]] += 1\n",
    "            else:\n",
    "                seen[chromosome[j][i]] = 1\n",
    "        for key in seen: # Subtract fitness for repeated numbers\n",
    "            fitness -= (seen[key] - 1)\n",
    "    for m in range(3): # For each 3x3 square\n",
    "        for n in range(3):\n",
    "            seen = {}\n",
    "            for i in range(3 * n, 3 * (n + 1)):  # Check cells in 3x3 square\n",
    "                for j in range(3 * m, 3 * (m + 1)):\n",
    "                    if chromosome[j][i] in seen:\n",
    "                        seen[chromosome[j][i]] += 1\n",
    "                    else:\n",
    "                        seen[chromosome[j][i]] = 1\n",
    "            for key in seen: # Subtract fitness for repeated numbers\n",
    "                fitness -= (seen[key] - 1)\n",
    "    return fitness"
   ],
   "metadata": {
    "collapsed": false,
    "ExecuteTime": {
     "end_time": "2023-05-29T11:29:14.742392976Z",
     "start_time": "2023-05-29T11:29:14.726582520Z"
    }
   }
  },
  {
   "cell_type": "code",
   "execution_count": 6,
   "outputs": [
    {
     "name": "stdout",
     "output_type": "stream",
     "text": [
      "-49\n"
     ]
    }
   ],
   "source": [
    "ch = make_chromosome()\n",
    "print(get_fitness(ch))\n",
    "\n",
    "\n",
    "def pch(ch):\n",
    "    for i in range(9):\n",
    "        for j in range(9):\n",
    "            print(ch[i][j], end=\" \")\n",
    "        print(\"\")\n"
   ],
   "metadata": {
    "collapsed": false,
    "ExecuteTime": {
     "end_time": "2023-05-29T11:29:14.990855629Z",
     "start_time": "2023-05-29T11:29:14.974964813Z"
    }
   }
  },
  {
   "cell_type": "markdown",
   "source": [
    "## Part 4: Crossover and Mutation"
   ],
   "metadata": {
    "collapsed": false
   }
  },
  {
   "cell_type": "markdown",
   "id": "a48e21e3",
   "metadata": {},
   "source": [
    "In this part, the crossover and mutation function is implemented to help in determining the next generation."
   ]
  },
  {
   "cell_type": "markdown",
   "id": "0b3165a6",
   "metadata": {},
   "source": [
    "### Crossover"
   ]
  },
  {
   "cell_type": "markdown",
   "id": "3f4b1fbc",
   "metadata": {},
   "source": [
    "the crossover function takes two chromosomes as input and makes two new chromosomes by combining them. This crossover function decides the parent of each gene separately, so the result is independent of the location of the genes."
   ]
  },
  {
   "cell_type": "code",
   "execution_count": 7,
   "id": "5b5e5769",
   "metadata": {
    "ExecuteTime": {
     "end_time": "2023-05-29T11:29:16.524690361Z",
     "start_time": "2023-05-29T11:29:16.506882079Z"
    }
   },
   "outputs": [],
   "source": [
    "def crossover(ch1, ch2):\n",
    "    new_child_1 = []\n",
    "    new_child_2 = []\n",
    "    for i in range(9):\n",
    "        x = rndm.randint(0, 1)\n",
    "        if x == 1:\n",
    "            new_child_1.append(ch1[i])\n",
    "            new_child_2.append(ch2[i])\n",
    "        elif x == 0:\n",
    "            new_child_2.append(ch1[i])\n",
    "            new_child_1.append(ch2[i])\n",
    "    return new_child_1, new_child_2"
   ]
  },
  {
   "cell_type": "markdown",
   "id": "bee65fa1",
   "metadata": {},
   "source": [
    "### Mutation"
   ]
  },
  {
   "cell_type": "code",
   "execution_count": 8,
   "id": "5e4b77f2",
   "metadata": {
    "ExecuteTime": {
     "end_time": "2023-05-29T11:29:17.334132855Z",
     "start_time": "2023-05-29T11:29:17.310513750Z"
    }
   },
   "outputs": [],
   "source": [
    "def mutation(ch, pm, initial):\n",
    "    for i in range(9):\n",
    "        x = rndm.randint(0, 100)\n",
    "        if x < pm * 100:\n",
    "            ch[i] = make_gene(initial[i])\n",
    "    return ch"
   ]
  },
  {
   "cell_type": "markdown",
   "id": "f1078fee",
   "metadata": {},
   "source": [
    "## Part 5: Implementing The Genetic Algorithm"
   ]
  },
  {
   "cell_type": "markdown",
   "id": "e7b04238",
   "metadata": {},
   "source": [
    "In this part, we use the components defined in previous steps to write the genetic algorithm."
   ]
  },
  {
   "cell_type": "markdown",
   "source": [
    "Read the puzzle from the given address\n"
   ],
   "metadata": {
    "collapsed": false
   }
  },
  {
   "cell_type": "code",
   "execution_count": 9,
   "id": "1615f3a0",
   "metadata": {
    "ExecuteTime": {
     "end_time": "2023-05-29T11:29:18.596156848Z",
     "start_time": "2023-05-29T11:29:18.557229273Z"
    }
   },
   "outputs": [],
   "source": [
    "def read_puzzle(address):\n",
    "    puzzle = []\n",
    "    f = open(address, 'r')\n",
    "    for row in f:\n",
    "        temp = row.split()\n",
    "        puzzle.append([int(c) for c in temp])\n",
    "    return puzzle"
   ]
  },
  {
   "cell_type": "markdown",
   "source": [
    "Get the mating pool using the random method"
   ],
   "metadata": {
    "collapsed": false
   }
  },
  {
   "cell_type": "code",
   "execution_count": 10,
   "id": "78ad13db",
   "metadata": {
    "ExecuteTime": {
     "end_time": "2023-05-29T11:29:18.872305918Z",
     "start_time": "2023-05-29T11:29:18.857373117Z"
    }
   },
   "outputs": [],
   "source": [
    "def r_get_mating_pool(population):\n",
    "    fitness_list = []\n",
    "    pool = []\n",
    "    for chromosome in population:\n",
    "        fitness = get_fitness(chromosome)\n",
    "        fitness_list.append((fitness, chromosome))\n",
    "    fitness_list.sort()\n",
    "    weight = list(range(1, len(fitness_list) + 1))\n",
    "    for _ in range(len(population)):\n",
    "        ch = rndm.choices(fitness_list, weight)[0]\n",
    "        pool.append(ch[1])\n",
    "    return pool\n"
   ]
  },
  {
   "cell_type": "markdown",
   "source": [
    "Get the mating pool using the weighted method"
   ],
   "metadata": {
    "collapsed": false
   }
  },
  {
   "cell_type": "code",
   "execution_count": 11,
   "id": "271217ae",
   "metadata": {
    "ExecuteTime": {
     "end_time": "2023-05-29T11:29:19.179367689Z",
     "start_time": "2023-05-29T11:29:19.163280603Z"
    }
   },
   "outputs": [],
   "source": [
    "def w_get_mating_pool(population):\n",
    "    fitness_list = []\n",
    "    pool = []\n",
    "    for chromosome in population:\n",
    "        fitness = get_fitness(chromosome)\n",
    "        fitness_list.append((fitness, chromosome))\n",
    "    weight = [fit[0] - fitness_list[0][0] for fit in fitness_list]\n",
    "    for _ in range(len(population)):\n",
    "        ch = rndm.choices(fitness_list, weights=weight)[0]\n",
    "        pool.append(ch[1])\n",
    "    return pool\n"
   ]
  },
  {
   "cell_type": "markdown",
   "source": [
    "Generate the offsprings from the mating pool"
   ],
   "metadata": {
    "collapsed": false
   }
  },
  {
   "cell_type": "code",
   "execution_count": 12,
   "id": "a0407dc1",
   "metadata": {
    "ExecuteTime": {
     "end_time": "2023-05-29T11:29:19.491939593Z",
     "start_time": "2023-05-29T11:29:19.472757374Z"
    }
   },
   "outputs": [],
   "source": [
    "def get_offsprings(population, initial, pm, pc):\n",
    "    new_pool = []\n",
    "    i = 0\n",
    "    while i < len(population):\n",
    "        ch1 = population[i]\n",
    "        ch2 = population[(i + 1) % len(population)]\n",
    "        x = rndm.randint(0, 100)\n",
    "        if x < pc * 100:\n",
    "            ch1, ch2 = crossover(ch1, ch2)\n",
    "        new_pool.append(mutation(ch1, pm, initial))\n",
    "        new_pool.append(mutation(ch2, pm, initial))\n",
    "        i += 2\n",
    "    return new_pool"
   ]
  },
  {
   "cell_type": "code",
   "execution_count": 13,
   "id": "969288f1",
   "metadata": {
    "ExecuteTime": {
     "end_time": "2023-05-29T11:29:20.023181388Z",
     "start_time": "2023-05-29T11:29:19.999854735Z"
    }
   },
   "outputs": [],
   "source": [
    "# Population size\n",
    "POPULATION = 1000\n",
    "\n",
    "# Number of generations\n",
    "REPETITION = 1000\n",
    "\n",
    "# Probability of mutation\n",
    "PM = 0.1\n",
    "\n",
    "# Probability of crossover\n",
    "PC = 0.95\n",
    "\n",
    "# Main genetic algorithm function\n",
    "def genetic_algorithm(initial_file):\n",
    "    initial = read_puzzle(initial_file)\n",
    "    population = make_population(POPULATION, initial)\n",
    "    for _ in range(REPETITION):\n",
    "        mating_pool = r_get_mating_pool(population)\n",
    "        rndm.shuffle(mating_pool)\n",
    "        population = get_offsprings(mating_pool, initial, PM, PC)\n",
    "        fit = [get_fitness(c) for c in population]\n",
    "        m = max(fit)\n",
    "        if m == 0:\n",
    "            return population\n",
    "    return population"
   ]
  },
  {
   "cell_type": "markdown",
   "source": [
    "Run the algorithm and time it"
   ],
   "metadata": {
    "collapsed": false
   }
  },
  {
   "cell_type": "code",
   "execution_count": 18,
   "id": "ed21c4fa",
   "metadata": {
    "ExecuteTime": {
     "end_time": "2023-05-29T11:33:28.432304999Z",
     "start_time": "2023-05-29T11:30:30.731602922Z"
    }
   },
   "outputs": [
    {
     "name": "stdout",
     "output_type": "stream",
     "text": [
      "time_taken:  177.61044931411743\n",
      "-7\n",
      "9 6 8 2 5 3 4 7 1 \n",
      "4 7 5 6 1 9 3 8 2 \n",
      "3 1 2 4 8 7 6 9 5 \n",
      "2 1 4 9 6 8 7 5 3 \n",
      "7 9 3 5 2 4 8 6 1 \n",
      "8 5 6 3 7 1 2 4 9 \n",
      "2 8 7 1 3 5 9 4 6 \n",
      "6 3 9 8 4 2 5 1 7 \n",
      "5 4 1 7 6 9 3 2 8 \n"
     ]
    }
   ],
   "source": [
    "tic = time.time()\n",
    "r = genetic_algorithm(\"./sample_sudoku/Test2.txt\")\n",
    "toc = time.time()\n",
    "print(\"time_taken: \", toc - tic)\n",
    "fit = [get_fitness(c) for c in r]\n",
    "m = max(fit)\n",
    "print(max(fit))\n",
    "\n",
    "# Print the chromosome with the highest fitness\n",
    "for c in r:\n",
    "    if get_fitness(c) == m:\n",
    "        pch(c)\n",
    "        break"
   ]
  },
  {
   "cell_type": "markdown",
   "id": "91319676",
   "metadata": {},
   "source": [
    "## Part 6: Questions"
   ]
  },
  {
   "cell_type": "markdown",
   "id": "4d92717c",
   "metadata": {},
   "source": [
    "<b>1-Method For Selecting Mating Pool:</b> We considered two options for this: rank based and fitness based approach. both were implemented and tested and rank based approach got better results, so it was chosen. rank based approach ranks the chromosomes by their ranks and chooses their weight based on their ranks. Lowest rank has weight 1 and highest rank has weight len(population)\n",
    "\n",
    "<b>2-Fitness Function:</b> Explained in part3\n",
    "\n",
    "<b>3-Crossover and Mutation:</b> \n",
    "\n",
    "Crossover: It is used to create new genes from old ones until the desired solution is reached, the method for this was explained in part4. This event is most likely to occur because it is the key to reach the solution. In this example, the chance of crossover happening is 95%. This number was determined by trial and error, other candidates were 90% and 85%.\n",
    "\n",
    "Mutation: It takes a chromosome as input and changes its genes with probability of PM. Sometimes the desired solution cannot be obtained from the current genes, so this function helps by changing the genes and creating new ones. It also can help if the algorithm is stuck at some local minimum. however, the chances of crossover happening is low because it would interfere with main genetic algorithm and made it a totally random algorithm and the algorithm won't converge if mutation was more likely to happen. In this algorithm, the chance of mutation happening is 10%. Same as crossover, this number was determined by trial and error, other candidates were 5% and 1%.\n",
    "\n",
    "<b>4-Problems with Genetic Algorithm:</b> It is possible for the algorithm to get stuck at local maximum, and it can cause a problem if local minimum is not enough to satisfy our need (like in sudoku problem). One way to fix this is to increase the mutation rate from the start(although it has its own setbacks as mentioned in above parts), or define a function to recognize local maximum.(like detecting the reputation of the same value) and increase the mutation rate in this case. another way is to increase population or the number of times the algorithm runs, another way is to change the definition of fitness function or change mating pool selection method, In general due to random nature of this algorithm, it is possible to face this problem regardless of our choose of method, sometimes running the algorithm several times can help."
   ]
  }
 ],
 "metadata": {
  "kernelspec": {
   "display_name": "Python 3 (ipykernel)",
   "language": "python",
   "name": "python3"
  },
  "language_info": {
   "codemirror_mode": {
    "name": "ipython",
    "version": 3
   },
   "file_extension": ".py",
   "mimetype": "text/x-python",
   "name": "python",
   "nbconvert_exporter": "python",
   "pygments_lexer": "ipython3",
   "version": "3.8.10"
  }
 },
 "nbformat": 4,
 "nbformat_minor": 5
}
